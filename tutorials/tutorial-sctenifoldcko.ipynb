{
 "cells": [
  {
   "cell_type": "code",
   "execution_count": null,
   "metadata": {},
   "outputs": [],
   "source": [
    "import scanpy as sc\n",
    "import scTenifoldXct as st\n",
    "from scTenifoldXct.cko import get_cko_data\n",
    "\n",
    "\n",
    "import warnings\n",
    "warnings.filterwarnings(\"ignore\")\n",
    "\n",
    "%load_ext autoreload\n",
    "%autoreload 2"
   ]
  },
  {
   "cell_type": "code",
   "execution_count": null,
   "metadata": {},
   "outputs": [
    {
     "name": "stdout",
     "output_type": "stream",
     "text": [
      "(101, 2608)\n"
     ]
    }
   ],
   "source": [
    "# get normal sample\n",
    "adata = sc.read_h5ad('../data/adata_merge_example.h5ad')\n",
    "ada_wt = adata[adata.obs['NormalvsTumor'] == 'N', :].copy()\n",
    "print(ada_wt.shape)"
   ]
  },
  {
   "cell_type": "code",
   "execution_count": null,
   "metadata": {},
   "outputs": [
    {
     "name": "stdout",
     "output_type": "stream",
     "text": [
      "CKO genes ['hes4', 'ccnl2'] are set\n",
      "(101, 2608)\n"
     ]
    }
   ],
   "source": [
    "ada_ko = get_cko_data(ada_wt, ['HES4', 'CCNL2'])\n",
    "print(ada_ko.shape)   "
   ]
  },
  {
   "cell_type": "code",
   "execution_count": null,
   "metadata": {},
   "outputs": [
    {
     "name": "stdout",
     "output_type": "stream",
     "text": [
      "(cell, feature): (65, 2608)\n",
      "(cell, feature): (36, 2608)\n",
      "selected 64 LR pairs\n",
      "load GRN B cells\n",
      "load GRN Fibroblasts\n",
      "build correspondence and initiate a trainer\n",
      "scTenifoldXct init completed\n",
      "\n"
     ]
    }
   ],
   "source": [
    "xct_wt = st.scTenifoldXct(data = ada_wt, \n",
    "                          source_celltype = 'B cells', \n",
    "                          target_celltype = 'Fibroblasts',\n",
    "                          obs_label = \"ident\",\n",
    "                          rebuild_GRN = True,\n",
    "                          GRN_file_dir = 'Net_B2Fib_N/',  \n",
    "                          verbose = True,\n",
    "                          n_cpus = 4,\n",
    "                          )"
   ]
  },
  {
   "cell_type": "code",
   "execution_count": null,
   "metadata": {},
   "outputs": [
    {
     "name": "stdout",
     "output_type": "stream",
     "text": [
      "(cell, feature): (65, 2608)\n",
      "(cell, feature): (36, 2608)\n",
      "selected 64 LR pairs\n",
      "building GRN of B cells...\n"
     ]
    },
    {
     "name": "stderr",
     "output_type": "stream",
     "text": [
      "2025-03-22 17:06:43,081\tINFO worker.py:1518 -- Started a local Ray instance.\n"
     ]
    },
    {
     "name": "stdout",
     "output_type": "stream",
     "text": [
      "ray init, using 4 CPUs\n",
      "execution time of making pcNet: 12.00 s\n",
      "building GRN of Fibroblasts...\n"
     ]
    },
    {
     "name": "stderr",
     "output_type": "stream",
     "text": [
      "2025-03-22 17:06:54,995\tINFO worker.py:1518 -- Started a local Ray instance.\n"
     ]
    },
    {
     "name": "stdout",
     "output_type": "stream",
     "text": [
      "ray init, using 4 CPUs\n",
      "execution time of making pcNet: 10.78 s\n",
      "build correspondence and initiate a trainer\n",
      "scTenifoldXct init completed\n",
      "\n"
     ]
    }
   ],
   "source": [
    "xct_ko = st.scTenifoldXct(data = ada_ko, \n",
    "                          source_celltype = 'B cells', \n",
    "                          target_celltype = 'Fibroblasts',\n",
    "                          obs_label = \"ident\",\n",
    "                          rebuild_GRN = True, \n",
    "                          GRN_file_dir = 'Net_B2Fib_CKO/',  \n",
    "                          verbose = True,\n",
    "                          n_cpus = 4,\n",
    "                          )"
   ]
  },
  {
   "cell_type": "code",
   "execution_count": 20,
   "metadata": {},
   "outputs": [
    {
     "name": "stdout",
     "output_type": "stream",
     "text": [
      "merge samples and build correspondence\n",
      "merge_scTenifoldXct init completed\n",
      "\n"
     ]
    }
   ],
   "source": [
    "xcts = st.merge_scTenifoldXct(xct_ko, xct_wt)"
   ]
  },
  {
   "cell_type": "code",
   "execution_count": 21,
   "metadata": {},
   "outputs": [
    {
     "name": "stderr",
     "output_type": "stream",
     "text": [
      "training...: 100%|██████████| 3000/3000 [21:47<00:00,  2.29it/s]\n"
     ]
    },
    {
     "data": {
      "text/plain": [
       "(10432, 3)"
      ]
     },
     "execution_count": 21,
     "metadata": {},
     "output_type": "execute_result"
    }
   ],
   "source": [
    "emb = xcts.get_embeds(train = True)\n",
    "emb.shape"
   ]
  },
  {
   "cell_type": "code",
   "execution_count": 22,
   "metadata": {},
   "outputs": [
    {
     "name": "stdout",
     "output_type": "stream",
     "text": [
      "computing pair-wise euclidean distances...\n",
      "computing pair-wise euclidean distances...\n",
      "merged pair-wise distances\n",
      "\n",
      "Total enriched: 2 / 6801664\n"
     ]
    },
    {
     "data": {
      "text/html": [
       "<div>\n",
       "<style scoped>\n",
       "    .dataframe tbody tr th:only-of-type {\n",
       "        vertical-align: middle;\n",
       "    }\n",
       "\n",
       "    .dataframe tbody tr th {\n",
       "        vertical-align: top;\n",
       "    }\n",
       "\n",
       "    .dataframe thead th {\n",
       "        text-align: right;\n",
       "    }\n",
       "</style>\n",
       "<table border=\"1\" class=\"dataframe\">\n",
       "  <thead>\n",
       "    <tr style=\"text-align: right;\">\n",
       "      <th></th>\n",
       "      <th>ligand</th>\n",
       "      <th>receptor</th>\n",
       "      <th>dist</th>\n",
       "      <th>correspondence</th>\n",
       "      <th>dist</th>\n",
       "      <th>correspondence</th>\n",
       "      <th>diff2</th>\n",
       "      <th>FC</th>\n",
       "      <th>p_val</th>\n",
       "      <th>q_val</th>\n",
       "      <th>enriched_rank</th>\n",
       "    </tr>\n",
       "  </thead>\n",
       "  <tbody>\n",
       "    <tr>\n",
       "      <th>ORM1_F3</th>\n",
       "      <td>ORM1</td>\n",
       "      <td>F3</td>\n",
       "      <td>0.014251</td>\n",
       "      <td>0.148032</td>\n",
       "      <td>0.014717</td>\n",
       "      <td>0.14757</td>\n",
       "      <td>2.173538e-07</td>\n",
       "      <td>40.714890</td>\n",
       "      <td>1.761399e-10</td>\n",
       "      <td>5.765372e-07</td>\n",
       "      <td>1</td>\n",
       "    </tr>\n",
       "    <tr>\n",
       "      <th>IFNG_CXCL9</th>\n",
       "      <td>IFNG</td>\n",
       "      <td>CXCL9</td>\n",
       "      <td>0.014291</td>\n",
       "      <td>0.148032</td>\n",
       "      <td>0.014580</td>\n",
       "      <td>0.14757</td>\n",
       "      <td>8.357626e-08</td>\n",
       "      <td>15.655571</td>\n",
       "      <td>7.598841e-05</td>\n",
       "      <td>1.817578e-02</td>\n",
       "      <td>2</td>\n",
       "    </tr>\n",
       "  </tbody>\n",
       "</table>\n",
       "</div>"
      ],
      "text/plain": [
       "           ligand receptor      dist  correspondence      dist  \\\n",
       "ORM1_F3      ORM1       F3  0.014251        0.148032  0.014717   \n",
       "IFNG_CXCL9   IFNG    CXCL9  0.014291        0.148032  0.014580   \n",
       "\n",
       "            correspondence         diff2         FC         p_val  \\\n",
       "ORM1_F3            0.14757  2.173538e-07  40.714890  1.761399e-10   \n",
       "IFNG_CXCL9         0.14757  8.357626e-08  15.655571  7.598841e-05   \n",
       "\n",
       "                   q_val  enriched_rank  \n",
       "ORM1_F3     5.765372e-07              1  \n",
       "IFNG_CXCL9  1.817578e-02              2  "
      ]
     },
     "execution_count": 22,
     "metadata": {},
     "output_type": "execute_result"
    }
   ],
   "source": [
    "xcts.nn_aligned_diff(emb) \n",
    "xcts_pairs_diff = xcts.chi2_diff_test()\n",
    "xcts_pairs_diff"
   ]
  }
 ],
 "metadata": {
  "kernelspec": {
   "display_name": "scTenifold",
   "language": "python",
   "name": "python3"
  },
  "language_info": {
   "codemirror_mode": {
    "name": "ipython",
    "version": 3
   },
   "file_extension": ".py",
   "mimetype": "text/x-python",
   "name": "python",
   "nbconvert_exporter": "python",
   "pygments_lexer": "ipython3",
   "version": "3.9.13"
  }
 },
 "nbformat": 4,
 "nbformat_minor": 2
}
